{
 "cells": [
  {
   "cell_type": "code",
   "execution_count": 2,
   "id": "65f2ef97",
   "metadata": {},
   "outputs": [
    {
     "data": {
      "text/plain": [
       "True"
      ]
     },
     "execution_count": 2,
     "metadata": {},
     "output_type": "execute_result"
    }
   ],
   "source": [
    "from autogen_ext.models.openai import OpenAIChatCompletionClient\n",
    "from autogen_agentchat.agents import AssistantAgent\n",
    "\n",
    "import os\n",
    "from dotenv import load_dotenv\n",
    "load_dotenv()"
   ]
  },
  {
   "cell_type": "code",
   "execution_count": 3,
   "id": "bd64aa16",
   "metadata": {},
   "outputs": [],
   "source": [
    "model_client = OpenAIChatCompletionClient(\n",
    "\tmodel='o4-mini',\n",
    "\tapi_key=os.getenv('OPENAI_API_KEY')\n",
    ")\n",
    "my_assistant = AssistantAgent(name='Assistant', model_client=model_client)"
   ]
  },
  {
   "cell_type": "code",
   "execution_count": 4,
   "id": "86fe5566",
   "metadata": {},
   "outputs": [],
   "source": [
    "op = await my_assistant.run(task=\"Hello AI!\")"
   ]
  },
  {
   "cell_type": "code",
   "execution_count": 7,
   "id": "f693e8b6",
   "metadata": {},
   "outputs": [
    {
     "name": "stdout",
     "output_type": "stream",
     "text": [
      "user: Hello AI!\n",
      "Assistant: Hello! How can I assist you today?\n"
     ]
    }
   ],
   "source": [
    "for msg in op.messages:\n",
    "    print(f\"{msg.source}: {msg.content}\")"
   ]
  },
  {
   "cell_type": "code",
   "execution_count": null,
   "id": "e2b607eb",
   "metadata": {},
   "outputs": [],
   "source": []
  }
 ],
 "metadata": {
  "kernelspec": {
   "display_name": "agentic-ai",
   "language": "python",
   "name": "python3"
  },
  "language_info": {
   "codemirror_mode": {
    "name": "ipython",
    "version": 3
   },
   "file_extension": ".py",
   "mimetype": "text/x-python",
   "name": "python",
   "nbconvert_exporter": "python",
   "pygments_lexer": "ipython3",
   "version": "3.13.4"
  }
 },
 "nbformat": 4,
 "nbformat_minor": 5
}
